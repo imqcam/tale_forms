{
 "cells": [
  {
   "cell_type": "code",
   "execution_count": null,
   "id": "0b1f8c46",
   "metadata": {},
   "outputs": [],
   "source": [
    "!pip install requirements.txt"
   ]
  },
  {
   "cell_type": "code",
   "execution_count": null,
   "id": "be04cb1f",
   "metadata": {},
   "outputs": [],
   "source": [
    "from forms import forms\n",
    "from girder_client import GirderClient\n",
    "import os\n",
    "\n",
    "client = GirderClient(apiUrl=os.environ['GIRDER_API_URL'])\n",
    "client.token = os.environ['GIRDER_TOKEN']\n",
    "forms = forms(client)\n"
   ]
  },
  {
   "cell_type": "code",
   "execution_count": null,
   "id": "593dfcb3",
   "metadata": {},
   "outputs": [],
   "source": [
    "forms.show_data()"
   ]
  }
 ],
 "metadata": {
  "language_info": {
   "name": "python"
  }
 },
 "nbformat": 4,
 "nbformat_minor": 5
}
